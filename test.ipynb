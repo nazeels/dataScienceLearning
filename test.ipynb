{
 "cells": [
  {
   "cell_type": "code",
   "execution_count": 3,
   "metadata": {},
   "outputs": [],
   "source": [
    "import requests"
   ]
  },
  {
   "cell_type": "code",
   "execution_count": 20,
   "metadata": {},
   "outputs": [],
   "source": [
    "url=\"https://developer.nrel.gov/api/alt-fuel-stations/v1/nearest.json?api_key=7HlumvY0chHuscLVhs29Uk8FlqgOngX9fck0OkrK&location=Denver+CO\""
   ]
  },
  {
   "cell_type": "code",
   "execution_count": null,
   "metadata": {},
   "outputs": [],
   "source": []
  },
  {
   "cell_type": "code",
   "execution_count": 21,
   "metadata": {},
   "outputs": [
    {
     "name": "stdout",
     "output_type": "stream",
     "text": [
      "https://developer.nrel.gov/api/alt-fuel-stations/v1/nearest.json?api_key=7HlumvY0chHuscLVhs29Uk8FlqgOngX9fck0OkrK&location=Denver+CO\n"
     ]
    }
   ],
   "source": [
    "print(url)"
   ]
  },
  {
   "cell_type": "code",
   "execution_count": null,
   "metadata": {},
   "outputs": [],
   "source": []
  },
  {
   "cell_type": "code",
   "execution_count": 22,
   "metadata": {},
   "outputs": [],
   "source": [
    "result=requests.get(url)"
   ]
  },
  {
   "cell_type": "code",
   "execution_count": null,
   "metadata": {},
   "outputs": [],
   "source": []
  },
  {
   "cell_type": "code",
   "execution_count": null,
   "metadata": {},
   "outputs": [],
   "source": []
  },
  {
   "cell_type": "code",
   "execution_count": 25,
   "metadata": {},
   "outputs": [
    {
     "name": "stdout",
     "output_type": "stream",
     "text": [
      "<Response [200]>\n"
     ]
    }
   ],
   "source": [
    "print(result)"
   ]
  },
  {
   "cell_type": "code",
   "execution_count": 24,
   "metadata": {},
   "outputs": [
    {
     "name": "stdout",
     "output_type": "stream",
     "text": [
      "{'latitude': 39.738453, 'longitude': -104.984853, 'precision': {'value': 4, 'name': 'locality', 'types': ['locality', 'political']}, 'station_locator_url': 'http://www.afdc.energy.gov/afdc/locator/stations/', 'total_results': 80, 'station_counts': {'total': 176, 'fuels': {'E85': {'total': 1}, 'ELEC': {'total': 167, 'stations': {'total': 71}}, 'HY': {'total': 0}, 'LNG': {'total': 0}, 'BD': {'total': 0}, 'CNG': {'total': 2}, 'LPG': {'total': 6}}}, 'offset': 0, 'fuel_stations': [{'access_days_time': '24 hours daily', 'cards_accepted': None, 'date_last_confirmed': '2018-01-06', 'expected_date': None, 'fuel_type_code': 'ELEC', 'id': 85932, 'groups_with_access_code': 'Public', 'open_date': None, 'owner_type_code': None, 'status_code': 'E', 'station_name': 'PUBLIC STATIONS', 'station_phone': '888-758-4389', 'updated_at': '2018-01-06T09:18:02Z', 'geocode_status': 'GPS', 'latitude': 39.7360835, 'longitude': -104.9881709, 'city': 'Denver', 'intersection_directions': 'CULTURAL CTR 3A; On Level 3 near the elevators', 'plus4': None, 'state': 'CO', 'street_address': '55 W 12th Ave', 'zip': '80204', 'bd_blends': None, 'e85_blender_pump': None, 'ev_connector_types': ['J1772'], 'ev_dc_fast_num': None, 'ev_level1_evse_num': None, 'ev_level2_evse_num': 1, 'ev_network': 'ChargePoint Network', 'ev_network_web': 'http://www.chargepoint.com/', 'ev_other_evse': None, 'hy_status_link': None, 'lpg_primary': None, 'ng_fill_type_code': None, 'ng_psi': None, 'ng_vehicle_class': None, 'ev_network_ids': {'posts': ['1:183793']}, 'distance': 0.24074}, {'access_days_time': 'Garage business hours; pay lot', 'cards_accepted': None, 'date_last_confirmed': '2017-11-02', 'expected_date': None, 'fuel_type_code': 'ELEC', 'id': 50065, 'groups_with_access_code': 'Public', 'open_date': '2012-12-01', 'owner_type_code': 'LG', 'status_code': 'E', 'station_name': 'City of Denver - Cultural Center Complex Garage', 'station_phone': '303-640-1096', 'updated_at': '2017-11-02T17:36:17Z', 'geocode_status': '200-8', 'latitude': 39.735271, 'longitude': -104.9885199, 'city': 'Denver', 'intersection_directions': 'Located on level 3 by the elevator', 'plus4': None, 'state': 'CO', 'street_address': '65 W 12th Ave', 'zip': '80204', 'bd_blends': None, 'e85_blender_pump': None, 'ev_connector_types': ['J1772'], 'ev_dc_fast_num': None, 'ev_level1_evse_num': None, 'ev_level2_evse_num': 3, 'ev_network': None, 'ev_network_web': None, 'ev_other_evse': None, 'hy_status_link': None, 'lpg_primary': None, 'ng_fill_type_code': None, 'ng_psi': None, 'ng_vehicle_class': None, 'distance': 0.29384}, {'access_days_time': '24 hours daily', 'cards_accepted': None, 'date_last_confirmed': '2018-01-06', 'expected_date': None, 'fuel_type_code': 'ELEC', 'id': 53942, 'groups_with_access_code': 'Public', 'open_date': None, 'owner_type_code': None, 'status_code': 'E', 'station_name': 'PUBLIC STATIONS', 'station_phone': '888-758-4389', 'updated_at': '2018-01-06T10:10:24Z', 'geocode_status': 'GPS', 'latitude': 39.7376694, 'longitude': -104.9904124, 'city': 'Denver', 'intersection_directions': 'BANNOCK LOT 1; -', 'plus4': None, 'state': 'CO', 'street_address': '1345 Bannock St', 'zip': '80204', 'bd_blends': None, 'e85_blender_pump': None, 'ev_connector_types': ['J1772'], 'ev_dc_fast_num': None, 'ev_level1_evse_num': None, 'ev_level2_evse_num': 1, 'ev_network': 'ChargePoint Network', 'ev_network_web': 'http://www.chargepoint.com/', 'ev_other_evse': None, 'hy_status_link': None, 'lpg_primary': None, 'ng_fill_type_code': None, 'ng_psi': None, 'ng_vehicle_class': None, 'ev_network_ids': {'posts': ['1:74433']}, 'distance': 0.30101}, {'access_days_time': '24 hours daily', 'cards_accepted': None, 'date_last_confirmed': '2018-01-06', 'expected_date': None, 'fuel_type_code': 'ELEC', 'id': 89048, 'groups_with_access_code': 'Public', 'open_date': None, 'owner_type_code': None, 'status_code': 'E', 'station_name': 'PUBLIC STATIONS', 'station_phone': '888-758-4389', 'updated_at': '2018-01-06T09:14:30Z', 'geocode_status': 'GPS', 'latitude': 39.7385267, 'longitude': -104.9905864, 'city': 'Denver', 'intersection_directions': 'CITY HALL 1; Two on-street spots on 14th before Bannock on left side of street', 'plus4': None, 'state': 'CO', 'street_address': '201-249 W 14th Ave', 'zip': '80202', 'bd_blends': None, 'e85_blender_pump': None, 'ev_connector_types': ['J1772'], 'ev_dc_fast_num': None, 'ev_level1_evse_num': None, 'ev_level2_evse_num': 2, 'ev_network': 'ChargePoint Network', 'ev_network_web': 'http://www.chargepoint.com/', 'ev_other_evse': None, 'hy_status_link': None, 'lpg_primary': None, 'ng_fill_type_code': None, 'ng_psi': None, 'ng_vehicle_class': None, 'ev_network_ids': {'posts': ['1:197795']}, 'distance': 0.30542}, {'access_days_time': 'Employee use only', 'cards_accepted': None, 'date_last_confirmed': '2017-11-02', 'expected_date': None, 'fuel_type_code': 'ELEC', 'id': 88026, 'groups_with_access_code': 'Private - Government only', 'open_date': '2017-01-01', 'owner_type_code': 'LG', 'status_code': 'E', 'station_name': 'City of Denver - Wellington E Webb Municipal Building', 'station_phone': None, 'updated_at': '2017-11-02T17:24:36Z', 'geocode_status': 'GPS', 'latitude': 39.740806, 'longitude': -104.9900639, 'city': 'Denver', 'intersection_directions': 'P-2, located in the workplace charging area', 'plus4': None, 'state': 'CO', 'street_address': '203 W Colfax Ave', 'zip': '80202', 'bd_blends': None, 'e85_blender_pump': None, 'ev_connector_types': ['J1772'], 'ev_dc_fast_num': None, 'ev_level1_evse_num': None, 'ev_level2_evse_num': 4, 'ev_network': None, 'ev_network_web': None, 'ev_other_evse': None, 'hy_status_link': None, 'lpg_primary': None, 'ng_fill_type_code': None, 'ng_psi': None, 'ng_vehicle_class': None, 'distance': 0.32153}, {'access_days_time': 'Employee use only', 'cards_accepted': None, 'date_last_confirmed': '2017-11-02', 'expected_date': None, 'fuel_type_code': 'ELEC', 'id': 88025, 'groups_with_access_code': 'Private - Government only', 'open_date': '2017-04-01', 'owner_type_code': 'LG', 'status_code': 'E', 'station_name': 'City of Denver - Wellington E Webb Municipal Building', 'station_phone': None, 'updated_at': '2017-11-02T17:29:45Z', 'geocode_status': 'GPS', 'latitude': 39.740806, 'longitude': -104.9900639, 'city': 'Denver', 'intersection_directions': 'P-1, located in the 3 hour Visiting City Employee area', 'plus4': None, 'state': 'CO', 'street_address': '202 W Colfax Ave', 'zip': '80202', 'bd_blends': None, 'e85_blender_pump': None, 'ev_connector_types': ['J1772'], 'ev_dc_fast_num': None, 'ev_level1_evse_num': None, 'ev_level2_evse_num': 1, 'ev_network': None, 'ev_network_web': None, 'ev_other_evse': None, 'hy_status_link': None, 'lpg_primary': None, 'ng_fill_type_code': None, 'ng_psi': None, 'ng_vehicle_class': None, 'distance': 0.32153}, {'access_days_time': 'City fleet use only', 'cards_accepted': None, 'date_last_confirmed': '2017-11-02', 'expected_date': None, 'fuel_type_code': 'ELEC', 'id': 62186, 'groups_with_access_code': 'Private - Government only', 'open_date': '2010-04-14', 'owner_type_code': 'LG', 'status_code': 'E', 'station_name': 'City of Denver - Wellington E Webb Municipal Building', 'station_phone': None, 'updated_at': '2017-11-02T17:35:50Z', 'geocode_status': '200-8', 'latitude': 39.740806, 'longitude': -104.9900639, 'city': 'Denver', 'intersection_directions': 'P-1, Fleet Motor Center', 'plus4': None, 'state': 'CO', 'street_address': '201 W Colfax Ave', 'zip': '80202', 'bd_blends': None, 'e85_blender_pump': None, 'ev_connector_types': ['J1772'], 'ev_dc_fast_num': None, 'ev_level1_evse_num': None, 'ev_level2_evse_num': 4, 'ev_network': None, 'ev_network_web': None, 'ev_other_evse': None, 'hy_status_link': None, 'lpg_primary': None, 'ng_fill_type_code': None, 'ng_psi': None, 'ng_vehicle_class': None, 'distance': 0.32153}, {'access_days_time': 'Fleet use only', 'cards_accepted': None, 'date_last_confirmed': '2017-11-02', 'expected_date': None, 'fuel_type_code': 'ELEC', 'id': 62185, 'groups_with_access_code': 'Private - Government only', 'open_date': '2012-05-01', 'owner_type_code': 'LG', 'status_code': 'E', 'station_name': 'City of Denver - Waterboard Garage', 'station_phone': None, 'updated_at': '2017-11-02T17:26:37Z', 'geocode_status': '200-8', 'latitude': 39.7376031, 'longitude': -104.9916267, 'city': 'Denver', 'intersection_directions': 'Denver Public Works', 'plus4': None, 'state': 'CO', 'street_address': '1340 Cherokee St', 'zip': '80204', 'bd_blends': None, 'e85_blender_pump': None, 'ev_connector_types': ['J1772'], 'ev_dc_fast_num': None, 'ev_level1_evse_num': None, 'ev_level2_evse_num': 1, 'ev_network': None, 'ev_network_web': None, 'ev_other_evse': None, 'hy_status_link': None, 'lpg_primary': None, 'ng_fill_type_code': None, 'ng_psi': None, 'ng_vehicle_class': None, 'distance': 0.36552}, {'access_days_time': 'MO: 12:00am-12:00am; TU: 12:00am-12:00am; WE: 12:00am-12:00am; TH: 12:00am-12:00am; FR: 12:00am-12:00am; SA: 12:00am-12:00am; SU: 12:00am-12:00am', 'cards_accepted': None, 'date_last_confirmed': '2018-01-06', 'expected_date': None, 'fuel_type_code': 'ELEC', 'id': 80053, 'groups_with_access_code': 'Public - Card key at all times', 'open_date': None, 'owner_type_code': None, 'status_code': 'E', 'station_name': 'Wells Fargo Center', 'station_phone': '800-663-5633', 'updated_at': '2018-01-06T09:05:05Z', 'geocode_status': 'GPS', 'latitude': 39.743995978817, 'longitude': -104.98452256243, 'city': 'Denver', 'intersection_directions': 'Facility parking fee will be accessed accordingly.  The stations are on level 2 of the garage.\\nFacility parking fee will be accessed accordingly.  The stations are on level 2 of the garage.\\nFacility parking fee will be accessed accordingly.  The stations are on level 2 of the garage.\\nFacility parking fee will be accessed accordingly.  The stations are on level 2 of the garage.', 'plus4': None, 'state': 'CO', 'street_address': '1700 Sherman Street', 'zip': '80203', 'bd_blends': None, 'e85_blender_pump': None, 'ev_connector_types': ['J1772'], 'ev_dc_fast_num': None, 'ev_level1_evse_num': None, 'ev_level2_evse_num': 4, 'ev_network': 'SemaCharge Network', 'ev_network_web': 'http://www.semacharge.com/', 'ev_other_evse': None, 'hy_status_link': None, 'lpg_primary': None, 'ng_fill_type_code': None, 'ng_psi': None, 'ng_vehicle_class': None, 'ev_network_ids': {'station': ['1620'], 'posts': ['4405', '4406', '4407', '4408']}, 'distance': 0.38282}, {'access_days_time': 'Garage business hours; pay lot', 'cards_accepted': None, 'date_last_confirmed': '2017-12-05', 'expected_date': None, 'fuel_type_code': 'ELEC', 'id': 43833, 'groups_with_access_code': 'Public', 'open_date': '2011-02-28', 'owner_type_code': 'P', 'status_code': 'E', 'station_name': 'Tremont Street Garage', 'station_phone': '303-534-7559', 'updated_at': '2017-12-05T16:38:56Z', 'geocode_status': '200-8', 'latitude': 39.7421201, 'longitude': -104.9914479, 'city': 'Denver', 'intersection_directions': None, 'plus4': None, 'state': 'CO', 'street_address': '400 15th St', 'zip': '80202', 'bd_blends': None, 'e85_blender_pump': None, 'ev_connector_types': ['NEMA515', 'J1772'], 'ev_dc_fast_num': None, 'ev_level1_evse_num': 2, 'ev_level2_evse_num': 2, 'ev_network': None, 'ev_network_web': None, 'ev_other_evse': None, 'hy_status_link': None, 'lpg_primary': None, 'ng_fill_type_code': None, 'ng_psi': None, 'ng_vehicle_class': None, 'distance': 0.43288}, {'access_days_time': '24 hours daily', 'cards_accepted': None, 'date_last_confirmed': '2017-11-02', 'expected_date': None, 'fuel_type_code': 'ELEC', 'id': 53945, 'groups_with_access_code': 'Public', 'open_date': '2013-06-01', 'owner_type_code': 'LG', 'status_code': 'E', 'station_name': 'City of Denver - Denver Justice Center Garage', 'station_phone': '303-607-9093', 'updated_at': '2017-11-02T17:28:35Z', 'geocode_status': '200-8', 'latitude': 39.738334, 'longitude': -104.9937917, 'city': 'Denver', 'intersection_directions': 'Level 2, at the top of the entrance ramp, SW corner', 'plus4': None, 'state': 'CO', 'street_address': '490 W 14th Ave', 'zip': '80204', 'bd_blends': None, 'e85_blender_pump': None, 'ev_connector_types': ['J1772'], 'ev_dc_fast_num': None, 'ev_level1_evse_num': None, 'ev_level2_evse_num': 1, 'ev_network': None, 'ev_network_web': None, 'ev_other_evse': None, 'hy_status_link': None, 'lpg_primary': None, 'ng_fill_type_code': None, 'ng_psi': None, 'ng_vehicle_class': None, 'distance': 0.47617}, {'access_days_time': '24 hours daily', 'cards_accepted': None, 'date_last_confirmed': '2018-01-06', 'expected_date': None, 'fuel_type_code': 'ELEC', 'id': 65434, 'groups_with_access_code': 'Public', 'open_date': None, 'owner_type_code': None, 'status_code': 'E', 'station_name': 'PUBLIC STATIONS', 'station_phone': '888-758-4389', 'updated_at': '2018-01-06T10:10:24Z', 'geocode_status': 'GPS', 'latitude': 39.737921, 'longitude': -104.9940067, 'city': 'Denver', 'intersection_directions': 'JUSTICE CENTER; Adjacent to space 32 on level 2', 'plus4': None, 'state': 'CO', 'street_address': '1370 Elati St', 'zip': '80204', 'bd_blends': None, 'e85_blender_pump': None, 'ev_connector_types': ['J1772'], 'ev_dc_fast_num': None, 'ev_level1_evse_num': None, 'ev_level2_evse_num': 1, 'ev_network': 'ChargePoint Network', 'ev_network_web': 'http://www.chargepoint.com/', 'ev_other_evse': None, 'hy_status_link': None, 'lpg_primary': None, 'ng_fill_type_code': None, 'ng_psi': None, 'ng_vehicle_class': None, 'ev_network_ids': {'posts': ['1:74363']}, 'distance': 0.48894}, {'access_days_time': '24 hours daily', 'cards_accepted': None, 'date_last_confirmed': '2018-01-06', 'expected_date': None, 'fuel_type_code': 'ELEC', 'id': 75913, 'groups_with_access_code': 'Public', 'open_date': None, 'owner_type_code': None, 'status_code': 'E', 'station_name': 'JOULE', 'station_phone': '888-758-4389', 'updated_at': '2018-01-06T09:30:33Z', 'geocode_status': 'GPS', 'latitude': 39.7325675, 'longitude': -104.9918917, 'city': 'Denver', 'intersection_directions': 'LEVEL 2; Floor 2, residents and guests only', 'plus4': None, 'state': 'CO', 'street_address': '1000 Speer', 'zip': '80204', 'bd_blends': None, 'e85_blender_pump': None, 'ev_connector_types': ['J1772'], 'ev_dc_fast_num': None, 'ev_level1_evse_num': None, 'ev_level2_evse_num': 2, 'ev_network': 'ChargePoint Network', 'ev_network_web': 'http://www.chargepoint.com/', 'ev_other_evse': None, 'hy_status_link': None, 'lpg_primary': None, 'ng_fill_type_code': None, 'ng_psi': None, 'ng_vehicle_class': None, 'ev_network_ids': {'posts': ['1:149247']}, 'distance': 0.55266}, {'access_days_time': '24 hours daily', 'cards_accepted': None, 'date_last_confirmed': '2018-01-06', 'expected_date': None, 'fuel_type_code': 'ELEC', 'id': 75910, 'groups_with_access_code': 'Public', 'open_date': None, 'owner_type_code': None, 'status_code': 'E', 'station_name': 'JOULE', 'station_phone': '888-758-4389', 'updated_at': '2018-01-06T09:30:11Z', 'geocode_status': 'GPS', 'latitude': 39.7325011, 'longitude': -104.9918712, 'city': 'Denver', 'intersection_directions': 'LEVEL 1; Garage entrance, residents and guests only', 'plus4': None, 'state': 'CO', 'street_address': '1000 Speer Blvd', 'zip': '80204', 'bd_blends': None, 'e85_blender_pump': None, 'ev_connector_types': ['J1772'], 'ev_dc_fast_num': None, 'ev_level1_evse_num': None, 'ev_level2_evse_num': 2, 'ev_network': 'ChargePoint Network', 'ev_network_web': 'http://www.chargepoint.com/', 'ev_other_evse': None, 'hy_status_link': None, 'lpg_primary': None, 'ng_fill_type_code': None, 'ng_psi': None, 'ng_vehicle_class': None, 'ev_network_ids': {'posts': ['1:150057']}, 'distance': 0.5553}, {'access_days_time': '24 hours daily; pay lot', 'cards_accepted': None, 'date_last_confirmed': '2017-12-05', 'expected_date': None, 'fuel_type_code': 'ELEC', 'id': 36353, 'groups_with_access_code': 'Public', 'open_date': '2010-03-15', 'owner_type_code': 'P', 'status_code': 'E', 'station_name': 'Hyatt Regency Denver', 'station_phone': '303-486-4467', 'updated_at': '2017-12-05T16:41:32Z', 'geocode_status': '200-8', 'latitude': 39.7435358, 'longitude': -104.9934125, 'city': 'Denver', 'intersection_directions': 'At Colorado Convention Center, level 2', 'plus4': None, 'state': 'CO', 'street_address': '650 15th St', 'zip': '80202', 'bd_blends': None, 'e85_blender_pump': None, 'ev_connector_types': ['NEMA520'], 'ev_dc_fast_num': None, 'ev_level1_evse_num': 4, 'ev_level2_evse_num': None, 'ev_network': None, 'ev_network_web': None, 'ev_other_evse': None, 'hy_status_link': None, 'lpg_primary': None, 'ng_fill_type_code': None, 'ng_psi': None, 'ng_vehicle_class': None, 'distance': 0.57515}, {'access_days_time': '24 hours daily', 'cards_accepted': None, 'date_last_confirmed': '2018-01-06', 'expected_date': None, 'fuel_type_code': 'ELEC', 'id': 66897, 'groups_with_access_code': 'Public', 'open_date': None, 'owner_type_code': None, 'status_code': 'E', 'station_name': 'UDR', 'station_phone': '888-758-4389', 'updated_at': '2018-01-06T09:46:53Z', 'geocode_status': 'GPS', 'latitude': 39.7300224, 'longitude': -104.9883424, 'city': 'Denver', 'intersection_directions': '816 ACOMA 1; For residents only - 5th Floor', 'plus4': None, 'state': 'CO', 'street_address': '800 Acoma St', 'zip': '80204', 'bd_blends': None, 'e85_blender_pump': None, 'ev_connector_types': ['J1772'], 'ev_dc_fast_num': None, 'ev_level1_evse_num': None, 'ev_level2_evse_num': 2, 'ev_network': 'ChargePoint Network', 'ev_network_web': 'http://www.chargepoint.com/', 'ev_other_evse': None, 'hy_status_link': None, 'lpg_primary': None, 'ng_fill_type_code': None, 'ng_psi': None, 'ng_vehicle_class': None, 'ev_network_ids': {'posts': ['1:118249']}, 'distance': 0.61061}, {'access_days_time': '24 hours daily', 'cards_accepted': None, 'date_last_confirmed': '2018-01-06', 'expected_date': None, 'fuel_type_code': 'ELEC', 'id': 65319, 'groups_with_access_code': 'Public', 'open_date': None, 'owner_type_code': None, 'status_code': 'E', 'station_name': 'BROOKFIELD WEST', 'station_phone': '888-758-4389', 'updated_at': '2018-01-06T09:58:12Z', 'geocode_status': 'GPS', 'latitude': 39.7477036, 'longitude': -104.9897862, 'city': 'Denver', 'intersection_directions': '1801 CAL 01; -', 'plus4': None, 'state': 'CO', 'street_address': '1801 California St', 'zip': '80202', 'bd_blends': None, 'e85_blender_pump': None, 'ev_connector_types': ['J1772'], 'ev_dc_fast_num': None, 'ev_level1_evse_num': None, 'ev_level2_evse_num': 2, 'ev_network': 'ChargePoint Network', 'ev_network_web': 'http://www.chargepoint.com/', 'ev_other_evse': None, 'hy_status_link': None, 'lpg_primary': None, 'ng_fill_type_code': None, 'ng_psi': None, 'ng_vehicle_class': None, 'ev_network_ids': {'posts': ['1:107401']}, 'distance': 0.69017}, {'access_days_time': '24 hours daily', 'cards_accepted': None, 'date_last_confirmed': '2017-11-02', 'expected_date': None, 'fuel_type_code': 'ELEC', 'id': 53944, 'groups_with_access_code': 'Public', 'open_date': '2013-06-01', 'owner_type_code': 'LG', 'status_code': 'E', 'station_name': 'City of Denver - Colorado Convention Center Garage', 'station_phone': '303-228-8071 ', 'updated_at': '2017-11-02T17:27:25Z', 'geocode_status': 'GPS', 'latitude': 39.742308, 'longitude': -104.997556, 'city': 'Denver', 'intersection_directions': 'Parking space 1081. Level P-1, half way down the level near the freight elevator', 'plus4': None, 'state': 'CO', 'street_address': '1104 Champa St', 'zip': '80202', 'bd_blends': None, 'e85_blender_pump': None, 'ev_connector_types': ['J1772'], 'ev_dc_fast_num': None, 'ev_level1_evse_num': None, 'ev_level2_evse_num': 1, 'ev_network': None, 'ev_network_web': None, 'ev_other_evse': None, 'hy_status_link': None, 'lpg_primary': None, 'ng_fill_type_code': None, 'ng_psi': None, 'ng_vehicle_class': None, 'distance': 0.72698}, {'access_days_time': '24 hours daily', 'cards_accepted': None, 'date_last_confirmed': '2018-01-06', 'expected_date': None, 'fuel_type_code': 'ELEC', 'id': 65578, 'groups_with_access_code': 'Public', 'open_date': None, 'owner_type_code': None, 'status_code': 'E', 'station_name': 'SPIRE', 'station_phone': '888-758-4389', 'updated_at': '2018-01-06T09:53:38Z', 'geocode_status': 'GPS', 'latitude': 39.7448438, 'longitude': -104.9958538, 'city': 'Denver', 'intersection_directions': 'PORTE COCHERE; Located in the Spire porte cochere off Champa. Available to the public while charging a vehicle at $5 per hour.  Registered resident rate is $2 per hour.', 'plus4': None, 'state': 'CO', 'street_address': '891 14th St', 'zip': '80202', 'bd_blends': None, 'e85_blender_pump': None, 'ev_connector_types': ['J1772'], 'ev_dc_fast_num': None, 'ev_level1_evse_num': None, 'ev_level2_evse_num': 1, 'ev_network': 'ChargePoint Network', 'ev_network_web': 'http://www.chargepoint.com/', 'ev_other_evse': None, 'hy_status_link': None, 'lpg_primary': None, 'ng_fill_type_code': None, 'ng_psi': None, 'ng_vehicle_class': None, 'ev_network_ids': {'posts': ['1:113141']}, 'distance': 0.73327}, {'access_days_time': '24 hours daily', 'cards_accepted': None, 'date_last_confirmed': '2018-01-06', 'expected_date': None, 'fuel_type_code': 'ELEC', 'id': 65432, 'groups_with_access_code': 'Public', 'open_date': None, 'owner_type_code': None, 'status_code': 'E', 'station_name': 'PUBLIC STATIONS', 'station_phone': '888-758-4389', 'updated_at': '2018-01-06T10:10:25Z', 'geocode_status': 'GPS', 'latitude': 39.7431367, 'longitude': -104.9974677, 'city': 'Denver', 'intersection_directions': 'CONVENTION CTR; Enter garage off Speer before Champa. Located in space 1081 on Level 1', 'plus4': None, 'state': 'CO', 'street_address': '1286-1296 Stout St', 'zip': '80202', 'bd_blends': None, 'e85_blender_pump': None, 'ev_connector_types': ['J1772'], 'ev_dc_fast_num': None, 'ev_level1_evse_num': None, 'ev_level2_evse_num': 1, 'ev_network': 'ChargePoint Network', 'ev_network_web': 'http://www.chargepoint.com/', 'ev_other_evse': None, 'hy_status_link': None, 'lpg_primary': None, 'ng_fill_type_code': None, 'ng_psi': None, 'ng_vehicle_class': None, 'ev_network_ids': {'posts': ['1:74153']}, 'distance': 0.74554}]}\n"
     ]
    }
   ],
   "source": [
    "print(result.json())"
   ]
  }
 ],
 "metadata": {
  "kernelspec": {
   "display_name": "Python 3",
   "language": "python",
   "name": "python3"
  },
  "language_info": {
   "codemirror_mode": {
    "name": "ipython",
    "version": 3
   },
   "file_extension": ".py",
   "mimetype": "text/x-python",
   "name": "python",
   "nbconvert_exporter": "python",
   "pygments_lexer": "ipython3",
   "version": "3.6.4"
  }
 },
 "nbformat": 4,
 "nbformat_minor": 2
}
