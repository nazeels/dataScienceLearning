{
 "cells": [
  {
   "cell_type": "code",
   "execution_count": 18,
   "metadata": {},
   "outputs": [],
   "source": [
    "programId = \"ProgramDoc.2018-04-02T05:35:24.988.73fd9ebf-2ea4-4da3-8e4e-57bf67b2ee82\"\n",
    "serviceUrl = \"http://wariyum.com:20005/service/programMgmt/management\"\n",
    "templateServiceId=\"WariyumServiceTemplateDoc.2018-04-02T05%3A43%3A32.470.965ea9cb-4e4d-4d84-91f2-73f66232a806\"\n",
    "import requests as req"
   ]
  },
  {
   "cell_type": "code",
   "execution_count": 15,
   "metadata": {},
   "outputs": [
    {
     "data": {
      "text/plain": [
       "'[{\"id\":\"ProgramDoc.2018-04-02T05:35:24.988.73fd9ebf-2ea4-4da3-8e4e-57bf67b2ee82\",\"programName\":\"test program\",\"createdDate\":null,\"businessOutlets\":[{\"id\":\"ProgramDoc.2018-04-02T05:35:24.988.73fd9ebf-2ea4-4da3-8e4e-57bf67b2ee82|0\",\"businessName\":\"outletName\",\"valid\":true}],\"peacockProfile\":null,\"settings\":null,\"users\":null}]'"
      ]
     },
     "execution_count": 15,
     "metadata": {},
     "output_type": "execute_result"
    }
   ],
   "source": [
    "response = req.get(serviceUrl + \"/programs?params=1\")\n",
    "response.text"
   ]
  },
  {
   "cell_type": "code",
   "execution_count": 9,
   "metadata": {},
   "outputs": [
    {
     "data": {
      "text/plain": [
       "'{\"id\":\"ProgramDoc.2018-04-02T05:35:24.988.73fd9ebf-2ea4-4da3-8e4e-57bf67b2ee82\",\"programName\":\"test program\",\"createdDate\":null,\"businessOutlets\":[{\"id\":\"ProgramDoc.2018-04-02T05:35:24.988.73fd9ebf-2ea4-4da3-8e4e-57bf67b2ee82|0\",\"businessName\":\"outletName\",\"valid\":true}],\"peacockProfile\":null,\"settings\":null,\"users\":null}'"
      ]
     },
     "execution_count": 9,
     "metadata": {},
     "output_type": "execute_result"
    }
   ],
   "source": [
    "#getProgramById\n",
    "response = req.get(serviceUrl + \"/getProgramById?programId=\" + programId)\n",
    "response.text"
   ]
  },
  {
   "cell_type": "code",
   "execution_count": 17,
   "metadata": {},
   "outputs": [
    {
     "data": {
      "text/plain": [
       "'[{\"id\":\"WariyumServiceTemplateDoc.2018-04-02T05:43:32.470.965ea9cb-4e4d-4d84-91f2-73f66232a806\",\"name\":\"Signage\",\"description\":\"string\",\"roles\":[\"SignageDevice\",\"Admin\"],\"keyProperties\":[{\"key\":\"NoOfSignageDevice\",\"value\":\"5\",\"dataType\":\"String\"},{\"key\":\"NoOfProducts\",\"value\":\"5\",\"dataType\":\"String\"}],\"menus\":[{\"id\":null,\"name\":\"name\",\"description\":\"description\",\"relativePath\":\"/products\",\"children\":[],\"roles\":[\"Admin\"]}]}]'"
      ]
     },
     "execution_count": 17,
     "metadata": {},
     "output_type": "execute_result"
    }
   ],
   "source": [
    "# /management/getTemplateServices\n",
    "responseTemplate = req.get(serviceUrl + \"/getTemplateServices\")\n",
    "responseTemplate.text"
   ]
  },
  {
   "cell_type": "code",
   "execution_count": 20,
   "metadata": {},
   "outputs": [
    {
     "data": {
      "text/plain": [
       "'{\"id\":\"WariyumServiceTemplateDoc.2018-04-02T05:43:32.470.965ea9cb-4e4d-4d84-91f2-73f66232a806\",\"name\":\"Signage\",\"description\":\"string\",\"roles\":[\"SignageDevice\",\"Admin\"],\"keyProperties\":[{\"key\":\"NoOfSignageDevice\",\"value\":\"5\",\"dataType\":\"String\"},{\"key\":\"NoOfProducts\",\"value\":\"5\",\"dataType\":\"String\"}],\"menus\":[{\"id\":null,\"name\":\"name\",\"description\":\"description\",\"relativePath\":\"/products\",\"children\":[],\"roles\":[\"Admin\"]}]}'"
      ]
     },
     "execution_count": 20,
     "metadata": {},
     "output_type": "execute_result"
    }
   ],
   "source": [
    "# /getTemplateServiceById?id=\n",
    "templateService = req.get(serviceUrl + \"/getTemplateServiceById?id=\"+ templateServiceId)\n",
    "templateService.text"
   ]
  },
  {
   "cell_type": "code",
   "execution_count": null,
   "metadata": {},
   "outputs": [],
   "source": []
  }
 ],
 "metadata": {
  "kernelspec": {
   "display_name": "Python 3",
   "language": "python",
   "name": "python3"
  },
  "language_info": {
   "codemirror_mode": {
    "name": "ipython",
    "version": 3
   },
   "file_extension": ".py",
   "mimetype": "text/x-python",
   "name": "python",
   "nbconvert_exporter": "python",
   "pygments_lexer": "ipython3",
   "version": "3.6.4"
  }
 },
 "nbformat": 4,
 "nbformat_minor": 2
}
